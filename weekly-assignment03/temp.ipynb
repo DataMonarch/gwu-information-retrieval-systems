{
 "cells": [
  {
   "cell_type": "code",
   "execution_count": 5,
   "metadata": {},
   "outputs": [],
   "source": [
    "import numpy as np, collections"
   ]
  },
  {
   "cell_type": "code",
   "execution_count": 21,
   "metadata": {},
   "outputs": [
    {
     "name": "stdout",
     "output_type": "stream",
     "text": [
      "Probability of the word computer: 0.26666666666666666\n",
      "Probability of the word math: 0.26666666666666666\n",
      "Probability of the word science: 0.1\n",
      "Probability of the word physics: 0.26666666666666666\n",
      "Probability of the word biology: 0.1\n"
     ]
    }
   ],
   "source": [
    "# Define the documents\n",
    "corpus = [\"computer computer math computer computer science\",\n",
    "            \"physics physics math math physics computer math\",\n",
    "            \"physics math biology math science science biology computer biology\",\n",
    "            \"physics  physics  physics  physics math  computer math computer\"]\n",
    "\n",
    "\n",
    "documents = [d.split() for d in corpus]\n",
    "corpus_joined = \" \".join(corpus).split()\n",
    "total_words = len(corpus_joined)\n",
    "\n",
    "# Calculate the probabilities of each word occurring\n",
    "word_counts = collections.Counter(corpus_joined)\n",
    "\n",
    "for key, val in word_counts.items():\n",
    "    print(f'Probability of the word {key}: {val / total_words}')\n"
   ]
  },
  {
   "cell_type": "code",
   "execution_count": 25,
   "metadata": {},
   "outputs": [
    {
     "name": "stdout",
     "output_type": "stream",
     "text": [
      "Probability of the word computer occurring in a document: 0.2857142857142857\n",
      "Probability of the word math occurring in a document: 0.2857142857142857\n",
      "Probability of the word science occurring in a document: 0.14285714285714285\n",
      "Probability of the word physics occurring in a document: 0.21428571428571427\n",
      "Probability of the word biology occurring in a document: 0.07142857142857142\n"
     ]
    }
   ],
   "source": [
    "# Define the documents\n",
    "corpus = [\"computer computer math computer computer science\",\n",
    "            \"physics physics math math physics computer math\",\n",
    "            \"physics math biology math science science biology computer biology\",\n",
    "            \"physics  physics  physics  physics math  computer math computer\"]\n",
    "\n",
    "\n",
    "unique_in_documents = np.hstack([np.unique(d.split()) for d in corpus])\n",
    "\n",
    "total_words = len(unique_in_documents)\n",
    "\n",
    "# Calculate the probabilities of each word occurring\n",
    "word_counts = collections.Counter(unique_in_documents)\n",
    "\n",
    "for key, val in word_counts.items():\n",
    "    print(f'Probability of the word {key} occurring in a document: {val / total_words}')"
   ]
  },
  {
   "cell_type": "code",
   "execution_count": null,
   "metadata": {},
   "outputs": [],
   "source": []
  }
 ],
 "metadata": {
  "kernelspec": {
   "display_name": "my_env",
   "language": "python",
   "name": "python3"
  },
  "language_info": {
   "codemirror_mode": {
    "name": "ipython",
    "version": 3
   },
   "file_extension": ".py",
   "mimetype": "text/x-python",
   "name": "python",
   "nbconvert_exporter": "python",
   "pygments_lexer": "ipython3",
   "version": "3.10.4"
  },
  "orig_nbformat": 4,
  "vscode": {
   "interpreter": {
    "hash": "387518b9bb933b2acbabe9c770b01d5280faf9fe9d0f55f5f7b391bf5a387d20"
   }
  }
 },
 "nbformat": 4,
 "nbformat_minor": 2
}
