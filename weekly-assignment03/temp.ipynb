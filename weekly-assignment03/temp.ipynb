{
 "cells": [
  {
   "cell_type": "code",
   "execution_count": 38,
   "metadata": {},
   "outputs": [],
   "source": [
    "import numpy as np, collections, math"
   ]
  },
  {
   "cell_type": "code",
   "execution_count": 21,
   "metadata": {},
   "outputs": [
    {
     "name": "stdout",
     "output_type": "stream",
     "text": [
      "Probability of the word computer: 0.26666666666666666\n",
      "Probability of the word math: 0.26666666666666666\n",
      "Probability of the word science: 0.1\n",
      "Probability of the word physics: 0.26666666666666666\n",
      "Probability of the word biology: 0.1\n"
     ]
    }
   ],
   "source": [
    "# Define the documents\n",
    "corpus = [\"computer computer math computer computer science\",\n",
    "            \"physics physics math math physics computer math\",\n",
    "            \"physics math biology math science science biology computer biology\",\n",
    "            \"physics  physics  physics  physics math  computer math computer\"]\n",
    "\n",
    "\n",
    "documents = [d.split() for d in corpus]\n",
    "corpus_joined = \" \".join(corpus).split()\n",
    "total_words = len(corpus_joined)\n",
    "\n",
    "# Calculate the probabilities of each word occurring\n",
    "word_counts = collections.Counter(corpus_joined)\n",
    "\n",
    "for key, val in word_counts.items():\n",
    "    print(f'Probability of the word {key}: {val / total_words}')\n"
   ]
  },
  {
   "cell_type": "code",
   "execution_count": 25,
   "metadata": {},
   "outputs": [
    {
     "name": "stdout",
     "output_type": "stream",
     "text": [
      "Probability of the word computer occurring in a document: 0.2857142857142857\n",
      "Probability of the word math occurring in a document: 0.2857142857142857\n",
      "Probability of the word science occurring in a document: 0.14285714285714285\n",
      "Probability of the word physics occurring in a document: 0.21428571428571427\n",
      "Probability of the word biology occurring in a document: 0.07142857142857142\n"
     ]
    }
   ],
   "source": [
    "# Define the documents\n",
    "corpus = [\"computer computer math computer computer science\",\n",
    "            \"physics physics math math physics computer math\",\n",
    "            \"physics math biology math science science biology computer biology\",\n",
    "            \"physics  physics  physics  physics math  computer math computer\"]\n",
    "\n",
    "\n",
    "unique_in_documents = np.hstack([np.unique(d.split()) for d in corpus])\n",
    "\n",
    "total_words = len(unique_in_documents)\n",
    "\n",
    "# Calculate the probabilities of each word occurring\n",
    "word_counts = collections.Counter(unique_in_documents)\n",
    "\n",
    "for key, val in word_counts.items():\n",
    "    print(f'Probability of the word {key} occurring in a document: {val / total_words}')"
   ]
  },
  {
   "cell_type": "code",
   "execution_count": 41,
   "metadata": {},
   "outputs": [
    {
     "name": "stdout",
     "output_type": "stream",
     "text": [
      "{'computer': 0.26666666666666666, 'math': 0.26666666666666666, 'science': 0.1, 'physics': 0.26666666666666666, 'biology': 0.1}\n",
      "Counter({'computer': 8, 'math': 8, 'physics': 8, 'science': 3, 'biology': 3})\n",
      "Average information for the word computer: 1.9068905956085187\n",
      "Average information for the word math: 1.9068905956085187\n",
      "Average information for the word science: 3.321928094887362\n",
      "Average information for the word physics: 1.9068905956085187\n",
      "Average information for the word biology: 3.321928094887362\n"
     ]
    }
   ],
   "source": [
    "# Define the documents\n",
    "corpus = [\"computer computer math computer computer science\",\n",
    "            \"physics physics math math physics computer math\",\n",
    "            \"physics math biology math science science biology computer biology\",\n",
    "            \"physics  physics  physics  physics math  computer math computer\"]\n",
    "\n",
    "\n",
    "documents = [d.split() for d in corpus]\n",
    "corpus_joined = \" \".join(corpus).split()\n",
    "total_words = len(corpus_joined)\n",
    "\n",
    "# Calculate the probabilities of each word occurring\n",
    "word_counts = collections.Counter(corpus_joined)\n",
    "word_proba = {key: val / total_words for key, val in word_counts.items()}\n",
    "print(word_proba)\n",
    "print(word_counts)\n",
    "words_info = {key: -math.log2(val) for key, val in word_proba.items()}\n",
    "\n",
    "for key, val in words_info.items():\n",
    "    print(f'Average information for the word {key}: {val }')\n"
   ]
  },
  {
   "cell_type": "code",
   "execution_count": 37,
   "metadata": {},
   "outputs": [
    {
     "name": "stdout",
     "output_type": "stream",
     "text": [
      "Average information for each word:\n",
      "computer: 1.907\n",
      "science: 3.322\n",
      "math: 1.907\n",
      "physics: 1.907\n",
      "biology: 3.322\n"
     ]
    }
   ],
   "source": [
    "import math\n",
    "\n",
    "probabilities = {'computer': 0.26666666666666666, 'science': 0.1, 'math': 0.26666666666666666, 'physics': 0.26666666666666666, 'biology': 0.1}\n",
    "average_information = {}\n",
    "\n",
    "for word in probabilities:\n",
    "    average_information[word] = -math.log2(probabilities[word])\n",
    "\n",
    "# Print the average information for each word\n",
    "print('Average information for each word:')\n",
    "for word in average_information:\n",
    "    print(f'{word}: {average_information[word]:.3f}')"
   ]
  }
 ],
 "metadata": {
  "kernelspec": {
   "display_name": "my_env",
   "language": "python",
   "name": "python3"
  },
  "language_info": {
   "codemirror_mode": {
    "name": "ipython",
    "version": 3
   },
   "file_extension": ".py",
   "mimetype": "text/x-python",
   "name": "python",
   "nbconvert_exporter": "python",
   "pygments_lexer": "ipython3",
   "version": "3.10.4"
  },
  "orig_nbformat": 4,
  "vscode": {
   "interpreter": {
    "hash": "387518b9bb933b2acbabe9c770b01d5280faf9fe9d0f55f5f7b391bf5a387d20"
   }
  }
 },
 "nbformat": 4,
 "nbformat_minor": 2
}
