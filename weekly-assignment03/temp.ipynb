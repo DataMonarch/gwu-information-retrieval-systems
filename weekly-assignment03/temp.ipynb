{
 "cells": [
  {
   "cell_type": "code",
   "execution_count": 38,
   "metadata": {},
   "outputs": [],
   "source": [
    "import numpy as np, collections, math"
   ]
  },
  {
   "cell_type": "code",
   "execution_count": 21,
   "metadata": {},
   "outputs": [
    {
     "name": "stdout",
     "output_type": "stream",
     "text": [
      "Probability of the word computer: 0.26666666666666666\n",
      "Probability of the word math: 0.26666666666666666\n",
      "Probability of the word science: 0.1\n",
      "Probability of the word physics: 0.26666666666666666\n",
      "Probability of the word biology: 0.1\n"
     ]
    }
   ],
   "source": [
    "# Define the documents\n",
    "corpus = [\"computer computer math computer computer science\",\n",
    "            \"physics physics math math physics computer math\",\n",
    "            \"physics math biology math science science biology computer biology\",\n",
    "            \"physics  physics  physics  physics math  computer math computer\"]\n",
    "\n",
    "\n",
    "documents = [d.split() for d in corpus]\n",
    "corpus_joined = \" \".join(corpus).split()\n",
    "total_words = len(corpus_joined)\n",
    "\n",
    "# Calculate the probabilities of each word occurring\n",
    "word_counts = collections.Counter(corpus_joined)\n",
    "\n",
    "for key, val in word_counts.items():\n",
    "    print(f'Probability of the word {key}: {val / total_words}')\n"
   ]
  },
  {
   "cell_type": "code",
   "execution_count": 45,
   "metadata": {},
   "outputs": [
    {
     "name": "stdout",
     "output_type": "stream",
     "text": [
      "Probability of the word computer occurring in a document: 1.0\n",
      "Probability of the word math occurring in a document: 1.0\n",
      "Probability of the word science occurring in a document: 0.5\n",
      "Probability of the word physics occurring in a document: 0.75\n",
      "Probability of the word biology occurring in a document: 0.25\n"
     ]
    }
   ],
   "source": [
    "# Define the documents\n",
    "corpus = [\"computer computer math computer computer science\",\n",
    "            \"physics physics math math physics computer math\",\n",
    "            \"physics math biology math science science biology computer biology\",\n",
    "            \"physics  physics  physics  physics math  computer math computer\"]\n",
    "\n",
    "\n",
    "unique_in_documents = np.hstack([np.unique(d.split()) for d in corpus])\n",
    "\n",
    "total_words = len(unique_in_documents)\n",
    "\n",
    "# Calculate the probabilities of each word occurring\n",
    "word_counts = collections.Counter(unique_in_documents)\n",
    "proba_occurrence_in_doc = {key: val / len(corpus) for key, val in word_counts.items()}\n",
    "\n",
    "for key, val in proba_occurrence_in_doc.items():\n",
    "    print(f'Probability of the word {key} occurring in a document: {val}')"
   ]
  },
  {
   "cell_type": "code",
   "execution_count": 47,
   "metadata": {},
   "outputs": [
    {
     "name": "stdout",
     "output_type": "stream",
     "text": [
      "{'computer': 0.26666666666666666, 'math': 0.26666666666666666, 'science': 0.1, 'physics': 0.26666666666666666, 'biology': 0.1}\n",
      "Counter({'computer': 8, 'math': 8, 'physics': 8, 'science': 3, 'biology': 3})\n",
      "Average information for the word computer: 1.9068905956085185\n",
      "Average information for the word math: 1.9068905956085185\n",
      "Average information for the word science: 3.321928094887362\n",
      "Average information for the word physics: 1.9068905956085185\n",
      "Average information for the word biology: 3.321928094887362\n"
     ]
    }
   ],
   "source": [
    "# Define the documents\n",
    "corpus = [\"computer computer math computer computer science\",\n",
    "            \"physics physics math math physics computer math\",\n",
    "            \"physics math biology math science science biology computer biology\",\n",
    "            \"physics  physics  physics  physics math  computer math computer\"]\n",
    "\n",
    "\n",
    "documents = [d.split() for d in corpus]\n",
    "corpus_joined = \" \".join(corpus).split()\n",
    "total_words = len(corpus_joined)\n",
    "\n",
    "# Calculate the probabilities of each word occurring\n",
    "word_counts = collections.Counter(corpus_joined)\n",
    "word_proba = {key: val / total_words for key, val in word_counts.items()}\n",
    "print(word_proba)\n",
    "print(word_counts)\n",
    "words_info = {key: -np.log2(val) for key, val in word_proba.items()}\n",
    "\n",
    "for key, val in words_info.items():\n",
    "    print(f'Average information for the word {key}: {val }')\n"
   ]
  },
  {
   "cell_type": "code",
   "execution_count": 46,
   "metadata": {},
   "outputs": [
    {
     "name": "stdout",
     "output_type": "stream",
     "text": [
      "Average information for the word computer (equal probs | real probas): 0.2 | 1.9068905956085185\n",
      "Average information for the word math (equal probs | real probas): 0.2 | 1.9068905956085185\n",
      "Average information for the word science (equal probs | real probas): 0.2 | 3.321928094887362\n",
      "Average information for the word physics (equal probs | real probas): 0.2 | 1.9068905956085185\n",
      "Average information for the word biology (equal probs | real probas): 0.2 | 3.321928094887362\n"
     ]
    }
   ],
   "source": [
    "# Define the documents\n",
    "corpus = [\"computer computer math computer computer science\",\n",
    "            \"physics physics math math physics computer math\",\n",
    "            \"physics math biology math science science biology computer biology\",\n",
    "            \"physics  physics  physics  physics math  computer math computer\"]\n",
    "\n",
    "\n",
    "documents = [d.split() for d in corpus]\n",
    "corpus_joined = \" \".join(corpus).split()\n",
    "total_words = len(corpus_joined)\n",
    "\n",
    "# Calculate the probabilities of each word occurring\n",
    "word_counts = collections.Counter(corpus_joined)\n",
    "word_proba = {key: val / total_words for key, val in word_counts.items()}\n",
    "word_proba_equal = {key: 1 / len(word_counts) for key, val in word_counts.items()}\n",
    "\n",
    "words_info = {key: -np.log2(val) for key, val in word_proba.items()}\n",
    "\n",
    "for key, val in words_info.items():\n",
    "    print(f'Average information for the word {key} (equal probs | real probas): {word_proba_equal[key]} | {val}')\n"
   ]
  },
  {
   "cell_type": "code",
   "execution_count": 49,
   "metadata": {},
   "outputs": [
    {
     "name": "stdout",
     "output_type": "stream",
     "text": [
      "Probability of the word computer occurring in a document: -0.0\n",
      "Probability of the word math occurring in a document: -0.0\n",
      "Probability of the word science occurring in a document: 1.0\n",
      "Probability of the word physics occurring in a document: 0.4150374992788438\n",
      "Probability of the word biology occurring in a document: 2.0\n"
     ]
    }
   ],
   "source": [
    "# Define the documents\n",
    "corpus = [\"computer computer math computer computer science\",\n",
    "            \"physics physics math math physics computer math\",\n",
    "            \"physics math biology math science science biology computer biology\",\n",
    "            \"physics  physics  physics  physics math  computer math computer\"]\n",
    "\n",
    "\n",
    "unique_in_documents = np.hstack([np.unique(d.split()) for d in corpus])\n",
    "\n",
    "total_words = len(unique_in_documents)\n",
    "\n",
    "# Calculate the probabilities of each word occurring\n",
    "word_counts = collections.Counter(unique_in_documents)\n",
    "proba_occurrence_in_doc = {key: val / len(corpus) for key, val in word_counts.items()}\n",
    "words_info = {key: -np.log2(val) for key, val in proba_occurrence_in_doc.items()}\n",
    "\n",
    "for key, val in words_info.items():\n",
    "    print(f'Probability of the word {key} occurring in a document: {val}')"
   ]
  }
 ],
 "metadata": {
  "kernelspec": {
   "display_name": "my_env",
   "language": "python",
   "name": "python3"
  },
  "language_info": {
   "codemirror_mode": {
    "name": "ipython",
    "version": 3
   },
   "file_extension": ".py",
   "mimetype": "text/x-python",
   "name": "python",
   "nbconvert_exporter": "python",
   "pygments_lexer": "ipython3",
   "version": "3.10.4"
  },
  "orig_nbformat": 4,
  "vscode": {
   "interpreter": {
    "hash": "387518b9bb933b2acbabe9c770b01d5280faf9fe9d0f55f5f7b391bf5a387d20"
   }
  }
 },
 "nbformat": 4,
 "nbformat_minor": 2
}
