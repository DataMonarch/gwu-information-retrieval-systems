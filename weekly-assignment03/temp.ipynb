{
 "cells": [
  {
   "cell_type": "code",
   "execution_count": 5,
   "metadata": {},
   "outputs": [],
   "source": [
    "import numpy as np, collections"
   ]
  },
  {
   "cell_type": "code",
   "execution_count": 8,
   "metadata": {},
   "outputs": [
    {
     "name": "stdout",
     "output_type": "stream",
     "text": [
      "Probability of computer: 0.26666666666666666\n",
      "Probability of science: 0.1\n",
      "Probability of math: 0.26666666666666666\n",
      "Probability of physics: 0.26666666666666666\n",
      "Probability of biology: 0.1\n"
     ]
    }
   ],
   "source": [
    "# Define the documents\n",
    "corpus = [\"computer computer math computer computer science\",\n",
    "            \"physics physics math math physics computer math\",\n",
    "            \"physics math biology math science science biology computer biology\",\n",
    "            \"physics  physics  physics  physics math  computer math computer\"]\n",
    "\n",
    "\n",
    "documents = [d.split() for d in corpus]\n",
    "corpus_joined = \" \".join(corpus).split()\n",
    "total_words = len(corpus_joined)\n",
    "\n",
    "# Calculate the probabilities of each word occurring\n",
    "word_counts = collections.Counter(corpus_joined)\n",
    "\n",
    "\n",
    "\n",
    "computer_prob = word_counts['computer'] / total_words\n",
    "science_prob = word_counts['science'] / total_words\n",
    "math_prob = word_counts['math'] / total_words\n",
    "physics_prob = word_counts['physics'] / total_words\n",
    "biology_prob = word_counts['biology'] / total_words\n",
    "\n",
    "# Print the probabilities\n",
    "print('Probability of computer:', computer_prob)\n",
    "print('Probability of science:', science_prob)\n",
    "print('Probability of math:', math_prob)\n",
    "print('Probability of physics:', physics_prob)\n",
    "print('Probability of biology:', biology_prob)"
   ]
  }
 ],
 "metadata": {
  "kernelspec": {
   "display_name": "my_env",
   "language": "python",
   "name": "python3"
  },
  "language_info": {
   "codemirror_mode": {
    "name": "ipython",
    "version": 3
   },
   "file_extension": ".py",
   "mimetype": "text/x-python",
   "name": "python",
   "nbconvert_exporter": "python",
   "pygments_lexer": "ipython3",
   "version": "3.10.4"
  },
  "orig_nbformat": 4,
  "vscode": {
   "interpreter": {
    "hash": "387518b9bb933b2acbabe9c770b01d5280faf9fe9d0f55f5f7b391bf5a387d20"
   }
  }
 },
 "nbformat": 4,
 "nbformat_minor": 2
}
